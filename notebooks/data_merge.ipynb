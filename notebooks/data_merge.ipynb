{
 "cells": [
  {
   "cell_type": "markdown",
   "metadata": {},
   "source": [
    "# データ変換用"
   ]
  },
  {
   "cell_type": "markdown",
   "metadata": {},
   "source": [
    "整理がだいたいできたらスクリプト化する。"
   ]
  },
  {
   "cell_type": "code",
   "execution_count": 170,
   "metadata": {},
   "outputs": [],
   "source": [
    "import pandas as pd"
   ]
  },
  {
   "cell_type": "code",
   "execution_count": 171,
   "metadata": {},
   "outputs": [],
   "source": [
    "master = pd.read_csv(\"./../data/master.csv\", index_col=\"id\")"
   ]
  },
  {
   "cell_type": "code",
   "execution_count": 172,
   "metadata": {},
   "outputs": [
    {
     "data": {
      "text/html": [
       "<div>\n",
       "<style scoped>\n",
       "    .dataframe tbody tr th:only-of-type {\n",
       "        vertical-align: middle;\n",
       "    }\n",
       "\n",
       "    .dataframe tbody tr th {\n",
       "        vertical-align: top;\n",
       "    }\n",
       "\n",
       "    .dataframe thead th {\n",
       "        text-align: right;\n",
       "    }\n",
       "</style>\n",
       "<table border=\"1\" class=\"dataframe\">\n",
       "  <thead>\n",
       "    <tr style=\"text-align: right;\">\n",
       "      <th></th>\n",
       "      <th>address</th>\n",
       "      <th>close_hour</th>\n",
       "      <th>latitude</th>\n",
       "      <th>longitude</th>\n",
       "      <th>name</th>\n",
       "      <th>open_hour</th>\n",
       "      <th>point</th>\n",
       "      <th>postal_code</th>\n",
       "      <th>reviews</th>\n",
       "      <th>url</th>\n",
       "    </tr>\n",
       "    <tr>\n",
       "      <th>id</th>\n",
       "      <th></th>\n",
       "      <th></th>\n",
       "      <th></th>\n",
       "      <th></th>\n",
       "      <th></th>\n",
       "      <th></th>\n",
       "      <th></th>\n",
       "      <th></th>\n",
       "      <th></th>\n",
       "      <th></th>\n",
       "    </tr>\n",
       "  </thead>\n",
       "  <tbody>\n",
       "    <tr>\n",
       "      <th>HZ38aBt6Q7i40am1CYt1sw</th>\n",
       "      <td>神奈川県川崎市中原区新丸子東２－８８５</td>\n",
       "      <td>22:00</td>\n",
       "      <td>35.579021</td>\n",
       "      <td>139.663525</td>\n",
       "      <td>デニーズ 武蔵小杉店 Denny's MUSASHI-KOSUGI</td>\n",
       "      <td>11:00</td>\n",
       "      <td>4.3</td>\n",
       "      <td>211-0004</td>\n",
       "      <td>211.0</td>\n",
       "      <td>https://www.ubereats.com/ja-JP/yokohama/food-d...</td>\n",
       "    </tr>\n",
       "    <tr>\n",
       "      <th>pTRkmFZ4RfSbf2aud8VA4w</th>\n",
       "      <td>神奈川県川崎市中原区新丸子東３丁目１１５６－２</td>\n",
       "      <td>21:00</td>\n",
       "      <td>35.573672</td>\n",
       "      <td>139.661720</td>\n",
       "      <td>藍屋 武蔵小杉店  Aiya Musashi Kosugi</td>\n",
       "      <td>11:00</td>\n",
       "      <td>4.2</td>\n",
       "      <td>211-0004</td>\n",
       "      <td>32.0</td>\n",
       "      <td>https://www.ubereats.com/ja-JP/yokohama/food-d...</td>\n",
       "    </tr>\n",
       "    <tr>\n",
       "      <th>nS3WLvBuTky3az1JNtP3Pw</th>\n",
       "      <td>Nakahara-Ku Kizuki 1 Chome−29 1F Kawasaki-Shi ...</td>\n",
       "      <td>22:00</td>\n",
       "      <td>35.565742</td>\n",
       "      <td>139.651417</td>\n",
       "      <td>ジャイプール Jaipur</td>\n",
       "      <td>17:00</td>\n",
       "      <td>4.3</td>\n",
       "      <td>211-0025</td>\n",
       "      <td>11.0</td>\n",
       "      <td>https://www.ubereats.com/ja-JP/yokohama/food-d...</td>\n",
       "    </tr>\n",
       "  </tbody>\n",
       "</table>\n",
       "</div>"
      ],
      "text/plain": [
       "                                                                  address  \\\n",
       "id                                                                          \n",
       "HZ38aBt6Q7i40am1CYt1sw                                神奈川県川崎市中原区新丸子東２－８８５   \n",
       "pTRkmFZ4RfSbf2aud8VA4w                            神奈川県川崎市中原区新丸子東３丁目１１５６－２   \n",
       "nS3WLvBuTky3az1JNtP3Pw  Nakahara-Ku Kizuki 1 Chome−29 1F Kawasaki-Shi ...   \n",
       "\n",
       "                       close_hour   latitude   longitude  \\\n",
       "id                                                         \n",
       "HZ38aBt6Q7i40am1CYt1sw      22:00  35.579021  139.663525   \n",
       "pTRkmFZ4RfSbf2aud8VA4w      21:00  35.573672  139.661720   \n",
       "nS3WLvBuTky3az1JNtP3Pw      22:00  35.565742  139.651417   \n",
       "\n",
       "                                                     name open_hour  point  \\\n",
       "id                                                                           \n",
       "HZ38aBt6Q7i40am1CYt1sw  デニーズ 武蔵小杉店 Denny's MUSASHI-KOSUGI     11:00    4.3   \n",
       "pTRkmFZ4RfSbf2aud8VA4w      藍屋 武蔵小杉店  Aiya Musashi Kosugi     11:00    4.2   \n",
       "nS3WLvBuTky3az1JNtP3Pw                      ジャイプール Jaipur     17:00    4.3   \n",
       "\n",
       "                       postal_code  reviews  \\\n",
       "id                                            \n",
       "HZ38aBt6Q7i40am1CYt1sw    211-0004    211.0   \n",
       "pTRkmFZ4RfSbf2aud8VA4w    211-0004     32.0   \n",
       "nS3WLvBuTky3az1JNtP3Pw    211-0025     11.0   \n",
       "\n",
       "                                                                      url  \n",
       "id                                                                         \n",
       "HZ38aBt6Q7i40am1CYt1sw  https://www.ubereats.com/ja-JP/yokohama/food-d...  \n",
       "pTRkmFZ4RfSbf2aud8VA4w  https://www.ubereats.com/ja-JP/yokohama/food-d...  \n",
       "nS3WLvBuTky3az1JNtP3Pw  https://www.ubereats.com/ja-JP/yokohama/food-d...  "
      ]
     },
     "execution_count": 172,
     "metadata": {},
     "output_type": "execute_result"
    }
   ],
   "source": [
    "master.head(3)"
   ]
  },
  {
   "cell_type": "code",
   "execution_count": 173,
   "metadata": {
    "scrolled": true
   },
   "outputs": [
    {
     "data": {
      "text/plain": [
       "235"
      ]
     },
     "execution_count": 173,
     "metadata": {},
     "output_type": "execute_result"
    }
   ],
   "source": [
    "len(master)"
   ]
  },
  {
   "cell_type": "code",
   "execution_count": 120,
   "metadata": {},
   "outputs": [],
   "source": [
    "df = pd.read_csv(\"./../rawdata/191225_080459_musashinakahara.csv\", index_col=\"id\")"
   ]
  },
  {
   "cell_type": "code",
   "execution_count": 111,
   "metadata": {},
   "outputs": [
    {
     "data": {
      "text/plain": [
       "82"
      ]
     },
     "execution_count": 111,
     "metadata": {},
     "output_type": "execute_result"
    }
   ],
   "source": [
    "len(df)"
   ]
  },
  {
   "cell_type": "code",
   "execution_count": 131,
   "metadata": {},
   "outputs": [],
   "source": [
    "data = pd.concat([master, df]).drop_duplicates(subset=\"url\")"
   ]
  },
  {
   "cell_type": "code",
   "execution_count": 132,
   "metadata": {},
   "outputs": [
    {
     "data": {
      "text/plain": [
       "232"
      ]
     },
     "execution_count": 132,
     "metadata": {},
     "output_type": "execute_result"
    }
   ],
   "source": [
    "len(data)"
   ]
  },
  {
   "cell_type": "code",
   "execution_count": 174,
   "metadata": {},
   "outputs": [],
   "source": [
    "shop = pd.read_csv(\"./../rawdata/shop.csv\", index_col=\"id\")\n",
    "data = pd.concat([master, shop]).drop_duplicates(subset=\"url\")"
   ]
  },
  {
   "cell_type": "code",
   "execution_count": 175,
   "metadata": {},
   "outputs": [
    {
     "data": {
      "text/plain": [
       "236"
      ]
     },
     "execution_count": 175,
     "metadata": {},
     "output_type": "execute_result"
    }
   ],
   "source": [
    "len(data)"
   ]
  },
  {
   "cell_type": "markdown",
   "metadata": {},
   "source": [
    "## Export"
   ]
  },
  {
   "cell_type": "code",
   "execution_count": 176,
   "metadata": {},
   "outputs": [],
   "source": [
    "data.to_csv(\"./../data/master.csv\", index=True)"
   ]
  },
  {
   "cell_type": "code",
   "execution_count": 177,
   "metadata": {},
   "outputs": [],
   "source": [
    "output = pd.DataFrame()"
   ]
  },
  {
   "cell_type": "code",
   "execution_count": 178,
   "metadata": {},
   "outputs": [],
   "source": [
    "output[\"店名\"] = data[\"name\"]\n",
    "output[\"住所\"] = data[\"address\"]\n",
    "output[\"緯度\"] = data[\"latitude\"]\n",
    "output[\"経度\"] = data[\"longitude\"]\n",
    "output[\"開始\"] = data[\"open_hour\"]\n",
    "output[\"終了\"] = data[\"close_hour\"]\n",
    "output[\"点数\"] = data[\"point\"]\n",
    "output[\"レビュー数\"] = data[\"reviews\"]\n",
    "output[\"URL\"] = data[\"url\"]"
   ]
  },
  {
   "cell_type": "code",
   "execution_count": 179,
   "metadata": {},
   "outputs": [],
   "source": [
    "output.to_csv(\"./../data/googlemap.csv\", index=False)"
   ]
  },
  {
   "cell_type": "code",
   "execution_count": null,
   "metadata": {},
   "outputs": [],
   "source": []
  }
 ],
 "metadata": {
  "kernelspec": {
   "display_name": "Environment (conda_ubereats)",
   "language": "python",
   "name": "conda_ubereats"
  },
  "language_info": {
   "codemirror_mode": {
    "name": "ipython",
    "version": 3
   },
   "file_extension": ".py",
   "mimetype": "text/x-python",
   "name": "python",
   "nbconvert_exporter": "python",
   "pygments_lexer": "ipython3",
   "version": "3.7.5"
  }
 },
 "nbformat": 4,
 "nbformat_minor": 2
}
