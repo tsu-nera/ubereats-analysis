{
 "cells": [
  {
   "cell_type": "markdown",
   "metadata": {},
   "source": [
    "# データ変換用"
   ]
  },
  {
   "cell_type": "markdown",
   "metadata": {},
   "source": [
    "整理がだいたいできたらスクリプト化する。"
   ]
  },
  {
   "cell_type": "code",
   "execution_count": 60,
   "metadata": {},
   "outputs": [],
   "source": [
    "import pandas as pd"
   ]
  },
  {
   "cell_type": "code",
   "execution_count": 61,
   "metadata": {},
   "outputs": [],
   "source": [
    "master = pd.read_csv(\"./../data/master.csv\", index_col=\"id\")"
   ]
  },
  {
   "cell_type": "code",
   "execution_count": 62,
   "metadata": {},
   "outputs": [
    {
     "data": {
      "text/html": [
       "<div>\n",
       "<style scoped>\n",
       "    .dataframe tbody tr th:only-of-type {\n",
       "        vertical-align: middle;\n",
       "    }\n",
       "\n",
       "    .dataframe tbody tr th {\n",
       "        vertical-align: top;\n",
       "    }\n",
       "\n",
       "    .dataframe thead th {\n",
       "        text-align: right;\n",
       "    }\n",
       "</style>\n",
       "<table border=\"1\" class=\"dataframe\">\n",
       "  <thead>\n",
       "    <tr style=\"text-align: right;\">\n",
       "      <th></th>\n",
       "      <th>address</th>\n",
       "      <th>close_hour</th>\n",
       "      <th>latitude</th>\n",
       "      <th>longitude</th>\n",
       "      <th>name</th>\n",
       "      <th>open_hour</th>\n",
       "      <th>point</th>\n",
       "      <th>postal_code</th>\n",
       "      <th>reviews</th>\n",
       "      <th>url</th>\n",
       "    </tr>\n",
       "    <tr>\n",
       "      <th>id</th>\n",
       "      <th></th>\n",
       "      <th></th>\n",
       "      <th></th>\n",
       "      <th></th>\n",
       "      <th></th>\n",
       "      <th></th>\n",
       "      <th></th>\n",
       "      <th></th>\n",
       "      <th></th>\n",
       "      <th></th>\n",
       "    </tr>\n",
       "  </thead>\n",
       "  <tbody>\n",
       "    <tr>\n",
       "      <th>HZ38aBt6Q7i40am1CYt1sw</th>\n",
       "      <td>神奈川県川崎市中原区新丸子東２－８８５</td>\n",
       "      <td>22:00</td>\n",
       "      <td>35.579021</td>\n",
       "      <td>139.663525</td>\n",
       "      <td>デニーズ 武蔵小杉店 Denny's MUSASHI-KOSUGI</td>\n",
       "      <td>11:00</td>\n",
       "      <td>4.3</td>\n",
       "      <td>211-0004</td>\n",
       "      <td>211.0</td>\n",
       "      <td>https://www.ubereats.com/ja-JP/yokohama/food-d...</td>\n",
       "    </tr>\n",
       "    <tr>\n",
       "      <th>pTRkmFZ4RfSbf2aud8VA4w</th>\n",
       "      <td>神奈川県川崎市中原区新丸子東３丁目１１５６－２</td>\n",
       "      <td>21:00</td>\n",
       "      <td>35.573672</td>\n",
       "      <td>139.661720</td>\n",
       "      <td>藍屋 武蔵小杉店  Aiya Musashi Kosugi</td>\n",
       "      <td>11:00</td>\n",
       "      <td>4.2</td>\n",
       "      <td>211-0004</td>\n",
       "      <td>32.0</td>\n",
       "      <td>https://www.ubereats.com/ja-JP/yokohama/food-d...</td>\n",
       "    </tr>\n",
       "    <tr>\n",
       "      <th>nS3WLvBuTky3az1JNtP3Pw</th>\n",
       "      <td>Nakahara-Ku Kizuki 1 Chome−29 1F Kawasaki-Shi ...</td>\n",
       "      <td>22:00</td>\n",
       "      <td>35.565742</td>\n",
       "      <td>139.651417</td>\n",
       "      <td>ジャイプール Jaipur</td>\n",
       "      <td>17:00</td>\n",
       "      <td>4.3</td>\n",
       "      <td>211-0025</td>\n",
       "      <td>11.0</td>\n",
       "      <td>https://www.ubereats.com/ja-JP/yokohama/food-d...</td>\n",
       "    </tr>\n",
       "    <tr>\n",
       "      <th>o8dBnKBkSPenQ1THw9L7rA</th>\n",
       "      <td>3 Chome-13-30 Kizuki Nakahara-Ku 店舗 ２Ｆ</td>\n",
       "      <td>22:00</td>\n",
       "      <td>35.565278</td>\n",
       "      <td>139.649150</td>\n",
       "      <td>サパナマハル Sapana Mahal</td>\n",
       "      <td>11:00</td>\n",
       "      <td>4.3</td>\n",
       "      <td>NaN</td>\n",
       "      <td>95.0</td>\n",
       "      <td>https://www.ubereats.com/ja-JP/yokohama/food-d...</td>\n",
       "    </tr>\n",
       "    <tr>\n",
       "      <th>UvJkazYkR-eErvgegDNhCA</th>\n",
       "      <td>川崎市中原区 小杉町2-276-1 E2 Kawasaki</td>\n",
       "      <td>21:00</td>\n",
       "      <td>35.577701</td>\n",
       "      <td>139.656897</td>\n",
       "      <td>トラットリア アッペティート TRATTORIA APPETITO</td>\n",
       "      <td>11:30</td>\n",
       "      <td>4.3</td>\n",
       "      <td>211-0063</td>\n",
       "      <td>30.0</td>\n",
       "      <td>https://www.ubereats.com/ja-JP/yokohama/food-d...</td>\n",
       "    </tr>\n",
       "  </tbody>\n",
       "</table>\n",
       "</div>"
      ],
      "text/plain": [
       "                                                                  address  \\\n",
       "id                                                                          \n",
       "HZ38aBt6Q7i40am1CYt1sw                                神奈川県川崎市中原区新丸子東２－８８５   \n",
       "pTRkmFZ4RfSbf2aud8VA4w                            神奈川県川崎市中原区新丸子東３丁目１１５６－２   \n",
       "nS3WLvBuTky3az1JNtP3Pw  Nakahara-Ku Kizuki 1 Chome−29 1F Kawasaki-Shi ...   \n",
       "o8dBnKBkSPenQ1THw9L7rA             3 Chome-13-30 Kizuki Nakahara-Ku 店舗 ２Ｆ   \n",
       "UvJkazYkR-eErvgegDNhCA                      川崎市中原区 小杉町2-276-1 E2 Kawasaki   \n",
       "\n",
       "                       close_hour   latitude   longitude  \\\n",
       "id                                                         \n",
       "HZ38aBt6Q7i40am1CYt1sw      22:00  35.579021  139.663525   \n",
       "pTRkmFZ4RfSbf2aud8VA4w      21:00  35.573672  139.661720   \n",
       "nS3WLvBuTky3az1JNtP3Pw      22:00  35.565742  139.651417   \n",
       "o8dBnKBkSPenQ1THw9L7rA      22:00  35.565278  139.649150   \n",
       "UvJkazYkR-eErvgegDNhCA      21:00  35.577701  139.656897   \n",
       "\n",
       "                                                     name open_hour  point  \\\n",
       "id                                                                           \n",
       "HZ38aBt6Q7i40am1CYt1sw  デニーズ 武蔵小杉店 Denny's MUSASHI-KOSUGI     11:00    4.3   \n",
       "pTRkmFZ4RfSbf2aud8VA4w      藍屋 武蔵小杉店  Aiya Musashi Kosugi     11:00    4.2   \n",
       "nS3WLvBuTky3az1JNtP3Pw                      ジャイプール Jaipur     17:00    4.3   \n",
       "o8dBnKBkSPenQ1THw9L7rA                サパナマハル Sapana Mahal     11:00    4.3   \n",
       "UvJkazYkR-eErvgegDNhCA  トラットリア アッペティート TRATTORIA APPETITO     11:30    4.3   \n",
       "\n",
       "                       postal_code  reviews  \\\n",
       "id                                            \n",
       "HZ38aBt6Q7i40am1CYt1sw    211-0004    211.0   \n",
       "pTRkmFZ4RfSbf2aud8VA4w    211-0004     32.0   \n",
       "nS3WLvBuTky3az1JNtP3Pw    211-0025     11.0   \n",
       "o8dBnKBkSPenQ1THw9L7rA         NaN     95.0   \n",
       "UvJkazYkR-eErvgegDNhCA    211-0063     30.0   \n",
       "\n",
       "                                                                      url  \n",
       "id                                                                         \n",
       "HZ38aBt6Q7i40am1CYt1sw  https://www.ubereats.com/ja-JP/yokohama/food-d...  \n",
       "pTRkmFZ4RfSbf2aud8VA4w  https://www.ubereats.com/ja-JP/yokohama/food-d...  \n",
       "nS3WLvBuTky3az1JNtP3Pw  https://www.ubereats.com/ja-JP/yokohama/food-d...  \n",
       "o8dBnKBkSPenQ1THw9L7rA  https://www.ubereats.com/ja-JP/yokohama/food-d...  \n",
       "UvJkazYkR-eErvgegDNhCA  https://www.ubereats.com/ja-JP/yokohama/food-d...  "
      ]
     },
     "execution_count": 62,
     "metadata": {},
     "output_type": "execute_result"
    }
   ],
   "source": [
    "master.head()"
   ]
  },
  {
   "cell_type": "code",
   "execution_count": 63,
   "metadata": {
    "scrolled": true
   },
   "outputs": [
    {
     "data": {
      "text/plain": [
       "215"
      ]
     },
     "execution_count": 63,
     "metadata": {},
     "output_type": "execute_result"
    }
   ],
   "source": [
    "len(master)"
   ]
  },
  {
   "cell_type": "code",
   "execution_count": 72,
   "metadata": {},
   "outputs": [],
   "source": [
    "df = pd.read_csv(\"./../rawdata/191225_080459_musashinakahara.csv\", index_col=\"id\")"
   ]
  },
  {
   "cell_type": "code",
   "execution_count": 73,
   "metadata": {},
   "outputs": [
    {
     "data": {
      "text/plain": [
       "41"
      ]
     },
     "execution_count": 73,
     "metadata": {},
     "output_type": "execute_result"
    }
   ],
   "source": [
    "len(df)"
   ]
  },
  {
   "cell_type": "code",
   "execution_count": 74,
   "metadata": {},
   "outputs": [],
   "source": [
    "data = pd.concat([master, df]).drop_duplicates(subset=\"url\")"
   ]
  },
  {
   "cell_type": "code",
   "execution_count": 75,
   "metadata": {},
   "outputs": [
    {
     "data": {
      "text/plain": [
       "220"
      ]
     },
     "execution_count": 75,
     "metadata": {},
     "output_type": "execute_result"
    }
   ],
   "source": [
    "len(data)"
   ]
  },
  {
   "cell_type": "markdown",
   "metadata": {},
   "source": [
    "## Export"
   ]
  },
  {
   "cell_type": "code",
   "execution_count": 49,
   "metadata": {},
   "outputs": [],
   "source": [
    "data.to_csv(\"./../data/master.csv\", index=True)"
   ]
  },
  {
   "cell_type": "code",
   "execution_count": 12,
   "metadata": {},
   "outputs": [],
   "source": [
    "output = pd.DataFrame()"
   ]
  },
  {
   "cell_type": "code",
   "execution_count": 13,
   "metadata": {},
   "outputs": [],
   "source": [
    "output[\"店名\"] = data[\"name\"]\n",
    "output[\"住所\"] = data[\"address\"]\n",
    "output[\"緯度\"] = data[\"latitude\"]\n",
    "output[\"経度\"] = data[\"longitude\"]\n",
    "output[\"開始\"] = data[\"open_hour\"]\n",
    "output[\"終了\"] = data[\"close_hour\"]\n",
    "output[\"点数\"] = data[\"point\"]\n",
    "output[\"レビュー数\"] = data[\"reviews\"]\n",
    "output[\"URL\"] = data[\"url\"]"
   ]
  },
  {
   "cell_type": "code",
   "execution_count": 14,
   "metadata": {},
   "outputs": [],
   "source": [
    "output.to_csv(\"./../data/googlemap.csv\", index=False)"
   ]
  },
  {
   "cell_type": "code",
   "execution_count": null,
   "metadata": {},
   "outputs": [],
   "source": []
  }
 ],
 "metadata": {
  "kernelspec": {
   "display_name": "Environment (conda_ubereats)",
   "language": "python",
   "name": "conda_ubereats"
  },
  "language_info": {
   "codemirror_mode": {
    "name": "ipython",
    "version": 3
   },
   "file_extension": ".py",
   "mimetype": "text/x-python",
   "name": "python",
   "nbconvert_exporter": "python",
   "pygments_lexer": "ipython3",
   "version": "3.7.5"
  }
 },
 "nbformat": 4,
 "nbformat_minor": 2
}
