{
 "cells": [
  {
   "cell_type": "markdown",
   "metadata": {},
   "source": [
    "# 武蔵中原近辺のUberEatsデータ分析"
   ]
  },
  {
   "cell_type": "code",
   "execution_count": 119,
   "metadata": {},
   "outputs": [],
   "source": [
    "import pandas as pd\n",
    "import datetime\n",
    "import seaborn as sns"
   ]
  },
  {
   "cell_type": "code",
   "execution_count": 71,
   "metadata": {},
   "outputs": [],
   "source": [
    "master = pd.read_csv(\"./../data/master.csv\")"
   ]
  },
  {
   "cell_type": "code",
   "execution_count": 72,
   "metadata": {},
   "outputs": [
    {
     "data": {
      "text/plain": [
       "203"
      ]
     },
     "execution_count": 72,
     "metadata": {},
     "output_type": "execute_result"
    }
   ],
   "source": [
    "len(master)"
   ]
  },
  {
   "cell_type": "code",
   "execution_count": 73,
   "metadata": {},
   "outputs": [
    {
     "data": {
      "text/html": [
       "<div>\n",
       "<style scoped>\n",
       "    .dataframe tbody tr th:only-of-type {\n",
       "        vertical-align: middle;\n",
       "    }\n",
       "\n",
       "    .dataframe tbody tr th {\n",
       "        vertical-align: top;\n",
       "    }\n",
       "\n",
       "    .dataframe thead th {\n",
       "        text-align: right;\n",
       "    }\n",
       "</style>\n",
       "<table border=\"1\" class=\"dataframe\">\n",
       "  <thead>\n",
       "    <tr style=\"text-align: right;\">\n",
       "      <th></th>\n",
       "      <th>address</th>\n",
       "      <th>close_hour</th>\n",
       "      <th>latitude</th>\n",
       "      <th>longitude</th>\n",
       "      <th>name</th>\n",
       "      <th>open_hour</th>\n",
       "      <th>point</th>\n",
       "      <th>postal_code</th>\n",
       "      <th>reviews</th>\n",
       "      <th>url</th>\n",
       "    </tr>\n",
       "  </thead>\n",
       "  <tbody>\n",
       "    <tr>\n",
       "      <th>0</th>\n",
       "      <td>神奈川県川崎市中原区新丸子東２－８８５</td>\n",
       "      <td>22:00</td>\n",
       "      <td>35.579021</td>\n",
       "      <td>139.663525</td>\n",
       "      <td>デニーズ 武蔵小杉店 Denny's MUSASHI-KOSUGI</td>\n",
       "      <td>11:00</td>\n",
       "      <td>4.3</td>\n",
       "      <td>211-0004</td>\n",
       "      <td>211.0</td>\n",
       "      <td>https://www.ubereats.com/ja-JP/yokohama/food-d...</td>\n",
       "    </tr>\n",
       "    <tr>\n",
       "      <th>1</th>\n",
       "      <td>神奈川県川崎市中原区新丸子東３丁目１１５６－２</td>\n",
       "      <td>21:00</td>\n",
       "      <td>35.573672</td>\n",
       "      <td>139.661720</td>\n",
       "      <td>藍屋 武蔵小杉店  Aiya Musashi Kosugi</td>\n",
       "      <td>11:00</td>\n",
       "      <td>4.2</td>\n",
       "      <td>211-0004</td>\n",
       "      <td>32.0</td>\n",
       "      <td>https://www.ubereats.com/ja-JP/yokohama/food-d...</td>\n",
       "    </tr>\n",
       "    <tr>\n",
       "      <th>2</th>\n",
       "      <td>Nakahara-Ku Kizuki 1 Chome−29 1F Kawasaki-Shi ...</td>\n",
       "      <td>22:00</td>\n",
       "      <td>35.565742</td>\n",
       "      <td>139.651417</td>\n",
       "      <td>ジャイプール Jaipur</td>\n",
       "      <td>17:00</td>\n",
       "      <td>4.3</td>\n",
       "      <td>211-0025</td>\n",
       "      <td>11.0</td>\n",
       "      <td>https://www.ubereats.com/ja-JP/yokohama/food-d...</td>\n",
       "    </tr>\n",
       "    <tr>\n",
       "      <th>3</th>\n",
       "      <td>3 Chome-13-30 Kizuki Nakahara-Ku 店舗 ２Ｆ</td>\n",
       "      <td>22:00</td>\n",
       "      <td>35.565278</td>\n",
       "      <td>139.649150</td>\n",
       "      <td>サパナマハル Sapana Mahal</td>\n",
       "      <td>11:00</td>\n",
       "      <td>4.3</td>\n",
       "      <td>NaN</td>\n",
       "      <td>95.0</td>\n",
       "      <td>https://www.ubereats.com/ja-JP/yokohama/food-d...</td>\n",
       "    </tr>\n",
       "    <tr>\n",
       "      <th>4</th>\n",
       "      <td>川崎市中原区 小杉町2-276-1 E2 Kawasaki</td>\n",
       "      <td>21:00</td>\n",
       "      <td>35.577701</td>\n",
       "      <td>139.656897</td>\n",
       "      <td>トラットリア アッペティート TRATTORIA APPETITO</td>\n",
       "      <td>11:30</td>\n",
       "      <td>4.3</td>\n",
       "      <td>211-0063</td>\n",
       "      <td>30.0</td>\n",
       "      <td>https://www.ubereats.com/ja-JP/yokohama/food-d...</td>\n",
       "    </tr>\n",
       "  </tbody>\n",
       "</table>\n",
       "</div>"
      ],
      "text/plain": [
       "                                             address close_hour   latitude  \\\n",
       "0                                神奈川県川崎市中原区新丸子東２－８８５      22:00  35.579021   \n",
       "1                            神奈川県川崎市中原区新丸子東３丁目１１５６－２      21:00  35.573672   \n",
       "2  Nakahara-Ku Kizuki 1 Chome−29 1F Kawasaki-Shi ...      22:00  35.565742   \n",
       "3             3 Chome-13-30 Kizuki Nakahara-Ku 店舗 ２Ｆ      22:00  35.565278   \n",
       "4                      川崎市中原区 小杉町2-276-1 E2 Kawasaki      21:00  35.577701   \n",
       "\n",
       "    longitude                               name open_hour  point postal_code  \\\n",
       "0  139.663525  デニーズ 武蔵小杉店 Denny's MUSASHI-KOSUGI     11:00    4.3    211-0004   \n",
       "1  139.661720      藍屋 武蔵小杉店  Aiya Musashi Kosugi     11:00    4.2    211-0004   \n",
       "2  139.651417                      ジャイプール Jaipur     17:00    4.3    211-0025   \n",
       "3  139.649150                サパナマハル Sapana Mahal     11:00    4.3         NaN   \n",
       "4  139.656897  トラットリア アッペティート TRATTORIA APPETITO     11:30    4.3    211-0063   \n",
       "\n",
       "   reviews                                                url  \n",
       "0    211.0  https://www.ubereats.com/ja-JP/yokohama/food-d...  \n",
       "1     32.0  https://www.ubereats.com/ja-JP/yokohama/food-d...  \n",
       "2     11.0  https://www.ubereats.com/ja-JP/yokohama/food-d...  \n",
       "3     95.0  https://www.ubereats.com/ja-JP/yokohama/food-d...  \n",
       "4     30.0  https://www.ubereats.com/ja-JP/yokohama/food-d...  "
      ]
     },
     "execution_count": 73,
     "metadata": {},
     "output_type": "execute_result"
    }
   ],
   "source": [
    "master.head(5)"
   ]
  },
  {
   "cell_type": "code",
   "execution_count": 74,
   "metadata": {},
   "outputs": [],
   "source": [
    "df = master.drop([\"address\"], axis=1)"
   ]
  },
  {
   "cell_type": "code",
   "execution_count": 75,
   "metadata": {},
   "outputs": [
    {
     "data": {
      "text/html": [
       "<div>\n",
       "<style scoped>\n",
       "    .dataframe tbody tr th:only-of-type {\n",
       "        vertical-align: middle;\n",
       "    }\n",
       "\n",
       "    .dataframe tbody tr th {\n",
       "        vertical-align: top;\n",
       "    }\n",
       "\n",
       "    .dataframe thead th {\n",
       "        text-align: right;\n",
       "    }\n",
       "</style>\n",
       "<table border=\"1\" class=\"dataframe\">\n",
       "  <thead>\n",
       "    <tr style=\"text-align: right;\">\n",
       "      <th></th>\n",
       "      <th>close_hour</th>\n",
       "      <th>latitude</th>\n",
       "      <th>longitude</th>\n",
       "      <th>name</th>\n",
       "      <th>open_hour</th>\n",
       "      <th>point</th>\n",
       "      <th>postal_code</th>\n",
       "      <th>reviews</th>\n",
       "      <th>url</th>\n",
       "    </tr>\n",
       "  </thead>\n",
       "  <tbody>\n",
       "    <tr>\n",
       "      <th>0</th>\n",
       "      <td>22:00</td>\n",
       "      <td>35.579021</td>\n",
       "      <td>139.663525</td>\n",
       "      <td>デニーズ 武蔵小杉店 Denny's MUSASHI-KOSUGI</td>\n",
       "      <td>11:00</td>\n",
       "      <td>4.3</td>\n",
       "      <td>211-0004</td>\n",
       "      <td>211.0</td>\n",
       "      <td>https://www.ubereats.com/ja-JP/yokohama/food-d...</td>\n",
       "    </tr>\n",
       "    <tr>\n",
       "      <th>1</th>\n",
       "      <td>21:00</td>\n",
       "      <td>35.573672</td>\n",
       "      <td>139.661720</td>\n",
       "      <td>藍屋 武蔵小杉店  Aiya Musashi Kosugi</td>\n",
       "      <td>11:00</td>\n",
       "      <td>4.2</td>\n",
       "      <td>211-0004</td>\n",
       "      <td>32.0</td>\n",
       "      <td>https://www.ubereats.com/ja-JP/yokohama/food-d...</td>\n",
       "    </tr>\n",
       "    <tr>\n",
       "      <th>2</th>\n",
       "      <td>22:00</td>\n",
       "      <td>35.565742</td>\n",
       "      <td>139.651417</td>\n",
       "      <td>ジャイプール Jaipur</td>\n",
       "      <td>17:00</td>\n",
       "      <td>4.3</td>\n",
       "      <td>211-0025</td>\n",
       "      <td>11.0</td>\n",
       "      <td>https://www.ubereats.com/ja-JP/yokohama/food-d...</td>\n",
       "    </tr>\n",
       "    <tr>\n",
       "      <th>3</th>\n",
       "      <td>22:00</td>\n",
       "      <td>35.565278</td>\n",
       "      <td>139.649150</td>\n",
       "      <td>サパナマハル Sapana Mahal</td>\n",
       "      <td>11:00</td>\n",
       "      <td>4.3</td>\n",
       "      <td>NaN</td>\n",
       "      <td>95.0</td>\n",
       "      <td>https://www.ubereats.com/ja-JP/yokohama/food-d...</td>\n",
       "    </tr>\n",
       "    <tr>\n",
       "      <th>4</th>\n",
       "      <td>21:00</td>\n",
       "      <td>35.577701</td>\n",
       "      <td>139.656897</td>\n",
       "      <td>トラットリア アッペティート TRATTORIA APPETITO</td>\n",
       "      <td>11:30</td>\n",
       "      <td>4.3</td>\n",
       "      <td>211-0063</td>\n",
       "      <td>30.0</td>\n",
       "      <td>https://www.ubereats.com/ja-JP/yokohama/food-d...</td>\n",
       "    </tr>\n",
       "  </tbody>\n",
       "</table>\n",
       "</div>"
      ],
      "text/plain": [
       "  close_hour   latitude   longitude                               name  \\\n",
       "0      22:00  35.579021  139.663525  デニーズ 武蔵小杉店 Denny's MUSASHI-KOSUGI   \n",
       "1      21:00  35.573672  139.661720      藍屋 武蔵小杉店  Aiya Musashi Kosugi   \n",
       "2      22:00  35.565742  139.651417                      ジャイプール Jaipur   \n",
       "3      22:00  35.565278  139.649150                サパナマハル Sapana Mahal   \n",
       "4      21:00  35.577701  139.656897  トラットリア アッペティート TRATTORIA APPETITO   \n",
       "\n",
       "  open_hour  point postal_code  reviews  \\\n",
       "0     11:00    4.3    211-0004    211.0   \n",
       "1     11:00    4.2    211-0004     32.0   \n",
       "2     17:00    4.3    211-0025     11.0   \n",
       "3     11:00    4.3         NaN     95.0   \n",
       "4     11:30    4.3    211-0063     30.0   \n",
       "\n",
       "                                                 url  \n",
       "0  https://www.ubereats.com/ja-JP/yokohama/food-d...  \n",
       "1  https://www.ubereats.com/ja-JP/yokohama/food-d...  \n",
       "2  https://www.ubereats.com/ja-JP/yokohama/food-d...  \n",
       "3  https://www.ubereats.com/ja-JP/yokohama/food-d...  \n",
       "4  https://www.ubereats.com/ja-JP/yokohama/food-d...  "
      ]
     },
     "execution_count": 75,
     "metadata": {},
     "output_type": "execute_result"
    }
   ],
   "source": [
    "df.head(5)"
   ]
  },
  {
   "cell_type": "markdown",
   "metadata": {},
   "source": [
    "## 最寄り駅ごとにお店を分類する"
   ]
  },
  {
   "cell_type": "markdown",
   "metadata": {},
   "source": [
    "武蔵中原、武蔵新城、武蔵小杉、武蔵溝ノ口、その他の分類でお店を分類する。"
   ]
  },
  {
   "cell_type": "code",
   "execution_count": null,
   "metadata": {},
   "outputs": [],
   "source": []
  }
 ],
 "metadata": {
  "kernelspec": {
   "display_name": "Environment (conda_ubereats)",
   "language": "python",
   "name": "conda_ubereats"
  },
  "language_info": {
   "codemirror_mode": {
    "name": "ipython",
    "version": 3
   },
   "file_extension": ".py",
   "mimetype": "text/x-python",
   "name": "python",
   "nbconvert_exporter": "python",
   "pygments_lexer": "ipython3",
   "version": "3.7.5"
  }
 },
 "nbformat": 4,
 "nbformat_minor": 2
}
